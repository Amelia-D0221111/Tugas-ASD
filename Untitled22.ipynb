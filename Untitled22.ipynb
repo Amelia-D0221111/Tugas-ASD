{
  "nbformat": 4,
  "nbformat_minor": 0,
  "metadata": {
    "colab": {
      "name": "Untitled22.ipynb",
      "provenance": [],
      "include_colab_link": true
    },
    "kernelspec": {
      "name": "python3",
      "display_name": "Python 3"
    },
    "language_info": {
      "name": "python"
    }
  },
  "cells": [
    {
      "cell_type": "markdown",
      "metadata": {
        "id": "view-in-github",
        "colab_type": "text"
      },
      "source": [
        "<a href=\"https://colab.research.google.com/github/Amelia-D0221111/Tugas-ASD/blob/main/Untitled22.ipynb\" target=\"_parent\"><img src=\"https://colab.research.google.com/assets/colab-badge.svg\" alt=\"Open In Colab\"/></a>"
      ]
    },
    {
      "cell_type": "code",
      "source": [
        "#operasi aritmatika    \n",
        "a =     10    \n",
        "b =     3    \n",
        "#operasi penjumlahan +    \n",
        "hasil = a + b    \n",
        "print (a,     '+'    , b ,     '='    ,hasil)\n",
        "\n",
        "#operasi pengurangan -    \n",
        "hasil = a - b    \n",
        "print (a,     '-'    , b ,     '='    ,hasil)\n",
        "\n",
        "#operasi perkali *    \n",
        "hasil = a * b    \n",
        "print (a,     '*'    , b ,     '='    ,hasil)\n",
        "\n",
        "#operasi pembagian /    \n",
        "hasil = a / b    \n",
        "print (a,     '/'    , b ,     '='    ,hasil)\n",
        "\n",
        "#operasi perpangkatan ** \n",
        "hasil = a ** b \n",
        "print (a,  '**' , b ,  '=' ,hasil)\n",
        "\n",
        "#operasi modulus (hasil bagi) % \n",
        "hasil = a % b \n",
        "print (a,  '%' , b ,  '=' ,hasil)"
      ],
      "metadata": {
        "colab": {
          "base_uri": "https://localhost:8080/"
        },
        "id": "_qc15Z_At7rE",
        "outputId": "23dd09a5-4648-4c22-fbe7-032f8326da6f"
      },
      "execution_count": null,
      "outputs": [
        {
          "output_type": "stream",
          "name": "stdout",
          "text": [
            "10 + 3 = 13\n",
            "10 - 3 = 7\n",
            "10 * 3 = 30\n",
            "10 / 3 = 3.3333333333333335\n",
            "10 ** 3 = 1000\n",
            "10 % 3 = 1\n"
          ]
        }
      ]
    },
    {
      "cell_type": "code",
      "source": [
        "#type data pada python\n",
        "#boolean\n",
        "angka = 2 > 3\n",
        "print(angka)\n",
        "print(type(angka))\n",
        "\n",
        "#string\n",
        "nama = \"ucup\"\n",
        "print(nama)\n",
        "print(type(nama))\n",
        "\n",
        "#integer\n",
        "umur = 19\n",
        "print(umur)\n",
        "print(type(umur))\n",
        "\n",
        "#float\n",
        "tinggi = 1.58\n",
        "print(tinggi)\n",
        "print(type(tinggi))\n"
      ],
      "metadata": {
        "colab": {
          "base_uri": "https://localhost:8080/"
        },
        "id": "5TXE9NLbx-3-",
        "outputId": "c214cf4e-efae-4f78-aaf2-b7397b41d38a"
      },
      "execution_count": null,
      "outputs": [
        {
          "output_type": "stream",
          "name": "stdout",
          "text": [
            "False\n",
            "<class 'bool'>\n",
            "ucup\n",
            "<class 'str'>\n",
            "19\n",
            "<class 'int'>\n",
            "1.58\n",
            "<class 'float'>\n"
          ]
        }
      ]
    }
  ]
}