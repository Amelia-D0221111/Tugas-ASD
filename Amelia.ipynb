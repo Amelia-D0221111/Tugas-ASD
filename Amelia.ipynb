{
  "nbformat": 4,
  "nbformat_minor": 0,
  "metadata": {
    "colab": {
      "name": "Amelia.ipynb",
      "provenance": [],
      "include_colab_link": true
    },
    "kernelspec": {
      "name": "python3",
      "display_name": "Python 3"
    },
    "language_info": {
      "name": "python"
    }
  },
  "cells": [
    {
      "cell_type": "markdown",
      "metadata": {
        "id": "view-in-github",
        "colab_type": "text"
      },
      "source": [
        "<a href=\"https://colab.research.google.com/github/Amelia-D0221111/Tugas-ASD/blob/main/Amelia.ipynb\" target=\"_parent\"><img src=\"https://colab.research.google.com/assets/colab-badge.svg\" alt=\"Open In Colab\"/></a>"
      ]
    },
    {
      "cell_type": "markdown",
      "source": [
        "# **Tipe Data List**"
      ],
      "metadata": {
        "id": "NUSqPIQDnL9h"
      }
    },
    {
      "cell_type": "code",
      "execution_count": null,
      "metadata": {
        "colab": {
          "base_uri": "https://localhost:8080/"
        },
        "id": "Zl21lgOlnJ8b",
        "outputId": "b808a138-6faa-42dc-fee7-a39884545cdf"
      },
      "outputs": [
        {
          "output_type": "stream",
          "name": "stdout",
          "text": [
            "durian\n",
            "anggur\n",
            "rambutan\n",
            "langsat\n",
            "apel\n",
            "['durian', 'cery', 'rambutan', 'langsat', 'apel']\n",
            "['durian', 'cery', 'rambutan', 'langsat']\n",
            "['durian', 'cery', 'rambutan']\n",
            "['durian', 'cery']\n",
            "['durian', 'cery', 'buah naga']\n",
            "['durian', 'cery', 'buah naga', 'kelapa', 'kurma']\n",
            "['durian', 'cery', 'jeruk', 'buah naga', 'kelapa', 'kurma']\n"
          ]
        }
      ],
      "source": [
        "#Membuat contoh list\n",
        "Buah = ['durian' , 'anggur' , 'rambutan' , 'langsat' , 'apel']\n",
        "#Menampilkan list dengan perulangan\n",
        "for i in Buah:\n",
        "  print(i)\n",
        "#Mengupdate salah satu list\n",
        "Buah [1] = 'cery'\n",
        "print(Buah)\n",
        "#Menghapus salah satu list pop,del,dan remove\n",
        "Buah.pop()\n",
        "print(Buah)\n",
        "del Buah[3]\n",
        "print(Buah)\n",
        "Buah.remove('rambutan')\n",
        "print(Buah)\n",
        "#Menambahkan list append,extend dan insert\n",
        "Buah.append('buah naga')\n",
        "print(Buah)\n",
        "Buah.extend(['kelapa','kurma'])\n",
        "print(Buah)\n",
        "Buah.insert(2, 'jeruk')\n",
        "print(Buah)"
      ]
    },
    {
      "cell_type": "markdown",
      "source": [
        "# **Tipe Data Tuple**"
      ],
      "metadata": {
        "id": "JInqcuQInipe"
      }
    },
    {
      "cell_type": "code",
      "source": [
        "#Membuat contoh tuple\n",
        "Negara = ('jerman','indonesia','amerika','thailand')\n",
        "#Menampilkan tuple dengan perulangan\n",
        "for i in Negara:\n",
        "  print(i)\n",
        "Negara = list(Negara)\n",
        "#Mengupdate salah satu tuple\n",
        "Negara [0] = 'korea'\n",
        "print(Negara)\n",
        "#Menghapus salah satu tuple\n",
        "Negara.pop()\n",
        "print(Negara)\n",
        "del Negara [2]\n",
        "print(Negara)\n",
        "Negara.remove('korea')\n",
        "print(Negara)\n",
        "#Menambahkan tuple\n",
        "Negara.extend(['india','malaysia'])\n",
        "print(Negara)"
      ],
      "metadata": {
        "colab": {
          "base_uri": "https://localhost:8080/"
        },
        "id": "vy4oV4nAnhbW",
        "outputId": "d3c81e30-8177-4e3d-e467-ff548f20546f"
      },
      "execution_count": null,
      "outputs": [
        {
          "output_type": "stream",
          "name": "stdout",
          "text": [
            "jerman\n",
            "indonesia\n",
            "amerika\n",
            "thailand\n",
            "['korea', 'indonesia', 'amerika', 'thailand']\n",
            "['korea', 'indonesia', 'amerika']\n",
            "['korea', 'indonesia']\n",
            "['indonesia']\n",
            "['indonesia', 'india', 'malaysia']\n"
          ]
        }
      ]
    },
    {
      "cell_type": "markdown",
      "source": [
        "# **Tipe Data Set**"
      ],
      "metadata": {
        "id": "gBmFzY17a9fb"
      }
    },
    {
      "cell_type": "code",
      "source": [
        "#Membuat contoh Set\n",
        "Teman = {'ryan','nina','efor','nopy','haikal'}\n",
        "#Menampilkan set dengan perulangan\n",
        "for i in Teman :\n",
        "  print(i)\n",
        "\n",
        "Teman = list(Teman)\n",
        "#Mengupdate salah satu set\n",
        "Teman [2] = 'fadil'\n",
        "print(Teman)\n",
        "\n",
        "Teman = set(Teman)\n",
        "#Menghapus salah satu set(pop,remove,discard,clear)\n",
        "Teman.discard('nopy')\n",
        "print(Teman)\n",
        "\n",
        "Teman.clear()\n",
        "print(Teman)\n",
        "#Menambahkan set (add,update)\n",
        "Teman.add('edwin')\n",
        "print(Teman)\n",
        "Teman.update(['nina','fadil','efor','yayat','ryan','nopy','haikal','amel'])\n",
        "print(Teman)"
      ],
      "metadata": {
        "colab": {
          "base_uri": "https://localhost:8080/"
        },
        "id": "iV5_ovWWa7Qa",
        "outputId": "b720c15f-20a6-4b03-89dd-ee2ebe76fafc"
      },
      "execution_count": null,
      "outputs": [
        {
          "output_type": "stream",
          "name": "stdout",
          "text": [
            "ryan\n",
            "nopy\n",
            "haikal\n",
            "nina\n",
            "efor\n",
            "['ryan', 'nopy', 'fadil', 'nina', 'efor']\n",
            "{'ryan', 'nina', 'efor', 'fadil'}\n",
            "set()\n",
            "{'edwin'}\n",
            "{'ryan', 'nopy', 'haikal', 'nina', 'edwin', 'yayat', 'efor', 'amel', 'fadil'}\n"
          ]
        }
      ]
    },
    {
      "cell_type": "markdown",
      "source": [
        "# **Tipe Data Dictionary**"
      ],
      "metadata": {
        "id": "p9xvZ75wl3OW"
      }
    },
    {
      "cell_type": "code",
      "source": [
        "#Membuat contoh dictionary\n",
        "favorit = {\n",
        "    'makanan' : 'mie ayam',\n",
        "    'warna' : 'dusty',\n",
        "    'minuman' : 'es teler'}\n",
        "#Menampilkan dictionary dengan perulangan\n",
        "for i in favorit.items():\n",
        "  print(i)\n",
        "for i in favorit:\n",
        "  print(i)\n",
        "for i in favorit.values():\n",
        "  print(i)\n",
        "#Mengupdate salah satu dictionary\n",
        "favorit ['warna'] = 'mocca'\n",
        "print(favorit)\n",
        "#Menghapus salah satu dictionary\n",
        "favorit.pop('minuman')\n",
        "print(favorit)\n",
        "favorit.clear()\n",
        "print(favorit)\n",
        "#Menambahkan dictionary\n",
        "favorit['nama'] = 'Amel'\n",
        "print(favorit)"
      ],
      "metadata": {
        "colab": {
          "base_uri": "https://localhost:8080/"
        },
        "id": "cNWHjMRDl1oF",
        "outputId": "70218cfc-1976-49f5-ed4c-8de2b6617464"
      },
      "execution_count": null,
      "outputs": [
        {
          "output_type": "stream",
          "name": "stdout",
          "text": [
            "('makanan', 'mie ayam')\n",
            "('warna', 'dusty')\n",
            "('minuman', 'es teler')\n",
            "makanan\n",
            "warna\n",
            "minuman\n",
            "mie ayam\n",
            "dusty\n",
            "es teler\n",
            "{'makanan': 'mie ayam', 'warna': 'mocca', 'minuman': 'es teler'}\n",
            "{'makanan': 'mie ayam', 'warna': 'mocca'}\n",
            "{}\n",
            "{'nama': 'Amel'}\n"
          ]
        }
      ]
    }
  ]
}