{
  "cells": [
    {
      "cell_type": "markdown",
      "metadata": {
        "id": "view-in-github",
        "colab_type": "text"
      },
      "source": [
        "<a href=\"https://colab.research.google.com/github/Amelia-D0221111/Tugas-ASD/blob/main/Untitled24.ipynb\" target=\"_parent\"><img src=\"https://colab.research.google.com/assets/colab-badge.svg\" alt=\"Open In Colab\"/></a>"
      ]
    },
    {
      "cell_type": "code",
      "execution_count": null,
      "metadata": {
        "colab": {
          "background_save": true,
          "base_uri": "https://localhost:8080/"
        },
        "id": "C0QM3Vf-AlZO",
        "outputId": "6a326a0e-b928-4513-8cd5-f261d04098f7"
      },
      "outputs": [
        {
          "name": "stdout",
          "output_type": "stream",
          "text": [
            "1.menambah\n",
            "  2. menghapus\n",
            "  3. mengubah\n",
            "  4. menampilkan\n",
            "  5. cari barang\n",
            "  6. cari indeks\n",
            "1.menambah\n",
            "  2. menghapus\n",
            "  3. mengubah\n",
            "  4. menampilkan\n",
            "  5. cari barang\n",
            "  6. cari indeks\n",
            "1.menambah\n",
            "  2. menghapus\n",
            "  3. mengubah\n",
            "  4. menampilkan\n",
            "  5. cari barang\n",
            "  6. cari indeks\n",
            "1.menambah\n",
            "  2. menghapus\n",
            "  3. mengubah\n",
            "  4. menampilkan\n",
            "  5. cari barang\n",
            "  6. cari indeks\n",
            "1.menambah\n",
            "  2. menghapus\n",
            "  3. mengubah\n",
            "  4. menampilkan\n",
            "  5. cari barang\n",
            "  6. cari indeks\n",
            "Sepatu\n",
            "Kaos\n",
            "Gelas\n",
            "Bantal\n",
            "1.menambah\n",
            "  2. menghapus\n",
            "  3. mengubah\n",
            "  4. menampilkan\n",
            "  5. cari barang\n",
            "  6. cari indeks\n",
            "['Sepatu', 'Kaos', 'Gelas', 'Bantal']\n"
          ]
        }
      ],
      "source": [
        "barang = []\n",
        "\n",
        "perintah = 0\n",
        "while perintah != 'stop':\n",
        "  print('''1.menambah\n",
        "  2. menghapus\n",
        "  3. mengubah\n",
        "  4. menampilkan\n",
        "  5. cari barang\n",
        "  6. cari indeks''')\n",
        "  perintah = input(\"masukkan perintah :\")\n",
        "\n",
        "  if perintah == '1' :\n",
        "    namabarang = input(\"masukkan nama barang :\")\n",
        "    barang.append(namabarang)\n",
        "\n",
        "  elif perintah == '2' :\n",
        "    index =int(input(\"masukkan index yang akan di hapus :\"))\n",
        "    barang.pop(index)\n",
        "  \n",
        "  elif perintah == '3' :\n",
        "    barang1 = int(input(\"masukkan index yang akan diubah :\"))\n",
        "    barang [barang1] = input(\"masukkan barang yang baru :\")\n",
        "\n",
        "  elif perintah == '4' :\n",
        "    for i in barang :\n",
        "      print(i)\n",
        "\n",
        "  elif perintah == '5' :\n",
        "    cari = input(\"masukkan nama barang yang dicari :\")\n",
        "    if cari in barang :\n",
        "      print(\"barang di temukan\")\n",
        "    else :\n",
        "      print(\"barang tidak ditemukan\")\n",
        "\n",
        "  elif perintah == '6' :\n",
        "    cari =input(\"masukkan item yang dicari :\")\n",
        "    if cari in barang:\n",
        "      print(buah.index(cari))\n",
        "    else :\n",
        "      print(\"item tidak ditemukan\")\n",
        "\n",
        "\n",
        "print(barang)"
      ]
    }
  ],
  "metadata": {
    "colab": {
      "name": "Untitled24.ipynb",
      "provenance": [],
      "include_colab_link": true
    },
    "kernelspec": {
      "display_name": "Python 3",
      "name": "python3"
    },
    "language_info": {
      "name": "python"
    }
  },
  "nbformat": 4,
  "nbformat_minor": 0
}