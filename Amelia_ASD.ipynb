{
  "nbformat": 4,
  "nbformat_minor": 0,
  "metadata": {
    "colab": {
      "name": "Amelia_ASD.ipynb",
      "provenance": [],
      "collapsed_sections": [],
      "include_colab_link": true
    },
    "kernelspec": {
      "name": "python3",
      "display_name": "Python 3"
    },
    "language_info": {
      "name": "python"
    }
  },
  "cells": [
    {
      "cell_type": "markdown",
      "metadata": {
        "id": "view-in-github",
        "colab_type": "text"
      },
      "source": [
        "<a href=\"https://colab.research.google.com/github/Amelia-D0221111/Tugas-ASD/blob/main/Amelia_ASD.ipynb\" target=\"_parent\"><img src=\"https://colab.research.google.com/assets/colab-badge.svg\" alt=\"Open In Colab\"/></a>"
      ]
    },
    {
      "cell_type": "markdown",
      "source": [
        "membuat codingan Stack dan Queue dengan ketentuan berikut:\n",
        "1. untuk stack , buat 5 fungsi yaitu pop,peek/top, push , empty , size.\n",
        "\n",
        "2. untuk Queue , buatlah fungsi Enqueue, Dequeue, full , size\n",
        "\n",
        "3. gunakan fungsi input menambah data"
      ],
      "metadata": {
        "id": "W-dDrbCedK4C"
      }
    },
    {
      "cell_type": "markdown",
      "source": [
        "# **Stack**"
      ],
      "metadata": {
        "id": "ogPCFWlgorwq"
      }
    },
    {
      "cell_type": "code",
      "execution_count": null,
      "metadata": {
        "id": "wVhuNTencwO-",
        "colab": {
          "base_uri": "https://localhost:8080/"
        },
        "outputId": "22000d1d-8bab-4355-f02b-d448f784d931"
      },
      "outputs": [
        {
          "output_type": "stream",
          "name": "stdout",
          "text": [
            "masukkan ukuran maksimal warna :3\n",
            "1. Push -> menambah warna\n",
            "  2. Pop -> menghapus warna\n",
            "  3. Peek -> melihat warna teratas \n",
            "  4. Empty -> periksa warna apakah penuh\n",
            "  5. size -> melihat ukuran warna\n",
            "  6. stop\n",
            "masukkan perintah :1\n",
            "\n",
            "tambahkan warna :latte\n",
            "latte telah di tambahkan\n",
            "1. Push -> menambah warna\n",
            "  2. Pop -> menghapus warna\n",
            "  3. Peek -> melihat warna teratas \n",
            "  4. Empty -> periksa warna apakah penuh\n",
            "  5. size -> melihat ukuran warna\n",
            "  6. stop\n",
            "masukkan perintah :1\n",
            "\n",
            "tambahkan warna :blue\n",
            "blue telah di tambahkan\n",
            "1. Push -> menambah warna\n",
            "  2. Pop -> menghapus warna\n",
            "  3. Peek -> melihat warna teratas \n",
            "  4. Empty -> periksa warna apakah penuh\n",
            "  5. size -> melihat ukuran warna\n",
            "  6. stop\n",
            "masukkan perintah :1\n",
            "\n",
            "tambahkan warna :mocca\n",
            "mocca telah di tambahkan\n",
            "1. Push -> menambah warna\n",
            "  2. Pop -> menghapus warna\n",
            "  3. Peek -> melihat warna teratas \n",
            "  4. Empty -> periksa warna apakah penuh\n",
            "  5. size -> melihat ukuran warna\n",
            "  6. stop\n",
            "masukkan perintah :2\n",
            "\n",
            "mocca telah di hapus \n",
            "1. Push -> menambah warna\n",
            "  2. Pop -> menghapus warna\n",
            "  3. Peek -> melihat warna teratas \n",
            "  4. Empty -> periksa warna apakah penuh\n",
            "  5. size -> melihat ukuran warna\n",
            "  6. stop\n",
            "masukkan perintah :3\n",
            "\n",
            "blue\n",
            "1. Push -> menambah warna\n",
            "  2. Pop -> menghapus warna\n",
            "  3. Peek -> melihat warna teratas \n",
            "  4. Empty -> periksa warna apakah penuh\n",
            "  5. size -> melihat ukuran warna\n",
            "  6. stop\n",
            "masukkan perintah :4\n",
            "\n",
            "warna terisi.\n",
            "1. Push -> menambah warna\n",
            "  2. Pop -> menghapus warna\n",
            "  3. Peek -> melihat warna teratas \n",
            "  4. Empty -> periksa warna apakah penuh\n",
            "  5. size -> melihat ukuran warna\n",
            "  6. stop\n",
            "masukkan perintah :5\n",
            "\n",
            "ukuran warna saat ini : 2 \n",
            "Ukuran maksimal warna : 3\n",
            "1. Push -> menambah warna\n",
            "  2. Pop -> menghapus warna\n",
            "  3. Peek -> melihat warna teratas \n",
            "  4. Empty -> periksa warna apakah penuh\n",
            "  5. size -> melihat ukuran warna\n",
            "  6. stop\n",
            "masukkan perintah :6\n",
            "\n"
          ]
        }
      ],
      "source": [
        "warna = []\n",
        "size = int(input(\"masukkan ukuran maksimal warna :\"))\n",
        "\n",
        "def isEmpty():\n",
        "  if len(warna) == 0 :\n",
        "    print(\"warna kosong\")\n",
        "    return True\n",
        "  return False\n",
        "\n",
        "def pop():\n",
        "  if isEmpty() == False :\n",
        "    print(warna.pop() , \"telah di hapus \")\n",
        "\n",
        "def peek():\n",
        "  if isEmpty() == False :\n",
        "    print(warna [-1])\n",
        "\n",
        "def isFull():\n",
        "  if len(warna) == size :\n",
        "    print(\"warna penuh\")\n",
        "    return True\n",
        "  return False\n",
        "\n",
        "def push():\n",
        "  if isFull() == False :\n",
        "    a = input(\"tambahkan warna :\")\n",
        "    warna.append(a)\n",
        "    print(a, \"telah di tambahkan\")\n",
        "\n",
        "perintah = 0\n",
        "while perintah != 6 :\n",
        "  print('''1. Push -> menambah warna\n",
        "  2. Pop -> menghapus warna\n",
        "  3. Peek -> melihat warna teratas \n",
        "  4. Empty -> periksa warna apakah penuh\n",
        "  5. size -> melihat ukuran warna\n",
        "  6. stop''')\n",
        "    \n",
        "  perintah = int(input(\"masukkan perintah :\"))\n",
        "  print()\n",
        "\n",
        "  if perintah == 1 :\n",
        "    push()\n",
        "  elif perintah == 2 :\n",
        "    pop()\n",
        "  elif perintah == 3 :\n",
        "    peek()\n",
        "  elif perintah == 4 :\n",
        "    if isEmpty() == False :\n",
        "      print(\"warna terisi.\")\n",
        "  elif perintah == 5 :\n",
        "    print(\"ukuran warna saat ini :\", len(warna), \"\\nUkuran maksimal warna :\", size)\n",
        "\n"
      ]
    },
    {
      "cell_type": "markdown",
      "source": [
        "# **Queue**"
      ],
      "metadata": {
        "id": "KCjYd2gaqQvy"
      }
    },
    {
      "cell_type": "code",
      "source": [
        "buah = []\n",
        "max_buah = int(input(\"masukkan maksimal buah :\"))\n",
        "\n",
        "def isFull() :\n",
        "  if len(buah) == max_buah :\n",
        "    print(\"buah penuh\")\n",
        "    return True \n",
        "  return False \n",
        "\n",
        "def enqueue():\n",
        "  if isFull() == False :\n",
        "    a = input(\"masukkan buah yang baru : \")\n",
        "    buah.append(a)\n",
        "    print(a, \"dimasukkan\")\n",
        "  \n",
        "\n",
        "def isEmpty() :\n",
        "  if len(buah) == 0 :\n",
        "    print(\"buah kosong\")\n",
        "    return True\n",
        "  return False\n",
        "\n",
        "def dequeue():\n",
        "  if isEmpty() == False :\n",
        "    print(buah.pop(0), \"di hapus\")\n",
        "\n",
        "perintah = 0\n",
        "while perintah != 5 :\n",
        "  print('''1. enqueue -> tambah buah\n",
        "  2. dequeue -> mengahapus buah\n",
        "  3. full -> cek buah apakah penuh\n",
        "  4. size -> melihat ukuran buah\n",
        "  5. stop''')\n",
        "  \n",
        "  perintah = int(input(\"masukkan perintah :\"))\n",
        "  \n",
        "  if perintah == 1 :\n",
        "    enqueue()\n",
        "  elif perintah == 2 :\n",
        "    dequeue()\n",
        "  elif perintah == 3 :\n",
        "    if isFull() == False :\n",
        "      print(\"buah belum penuh\")\n",
        "  elif perintah == 4 :\n",
        "    print(\" isi buah saat ini:\" , len(buah),\"\\n ukuran maksimal buah:\", max_buah)\n",
        "\n"
      ],
      "metadata": {
        "id": "SD-hTf0fnaVM",
        "colab": {
          "base_uri": "https://localhost:8080/"
        },
        "outputId": "639a79fb-43e7-40f0-edbb-9832f6e539ee"
      },
      "execution_count": null,
      "outputs": [
        {
          "name": "stdout",
          "output_type": "stream",
          "text": [
            "masukkan maksimal buah :3\n",
            "1. enqueue -> tambah buah\n",
            "  2. dequeue -> mengahapus buah\n",
            "  3. full -> cek buah apakah penuh\n",
            "  4. size -> melihat ukuran buah\n",
            "  5. stop\n",
            "masukkan perintah :1\n",
            "masukkan buah yang baru : kelapa\n",
            "kelapa dimasukkan\n",
            "1. enqueue -> tambah buah\n",
            "  2. dequeue -> mengahapus buah\n",
            "  3. full -> cek buah apakah penuh\n",
            "  4. size -> melihat ukuran buah\n",
            "  5. stop\n",
            "masukkan perintah :1\n",
            "masukkan buah yang baru : kurma\n",
            "kurma dimasukkan\n",
            "1. enqueue -> tambah buah\n",
            "  2. dequeue -> mengahapus buah\n",
            "  3. full -> cek buah apakah penuh\n",
            "  4. size -> melihat ukuran buah\n",
            "  5. stop\n",
            "masukkan perintah :2\n",
            "kelapa di hapus\n",
            "1. enqueue -> tambah buah\n",
            "  2. dequeue -> mengahapus buah\n",
            "  3. full -> cek buah apakah penuh\n",
            "  4. size -> melihat ukuran buah\n",
            "  5. stop\n",
            "masukkan perintah :3\n",
            "buah belum penuh\n",
            "1. enqueue -> tambah buah\n",
            "  2. dequeue -> mengahapus buah\n",
            "  3. full -> cek buah apakah penuh\n",
            "  4. size -> melihat ukuran buah\n",
            "  5. stop\n",
            "masukkan perintah :4\n",
            " isi buah saat ini: 1 \n",
            " ukuran maksimal buah: 3\n",
            "1. enqueue -> tambah buah\n",
            "  2. dequeue -> mengahapus buah\n",
            "  3. full -> cek buah apakah penuh\n",
            "  4. size -> melihat ukuran buah\n",
            "  5. stop\n",
            "masukkan perintah :5\n"
          ]
        }
      ]
    }
  ]
}