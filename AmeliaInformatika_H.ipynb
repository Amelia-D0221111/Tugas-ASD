{
  "nbformat": 4,
  "nbformat_minor": 0,
  "metadata": {
    "colab": {
      "name": "Amel.ipynb",
      "provenance": [],
      "include_colab_link": true
    },
    "kernelspec": {
      "name": "python3",
      "display_name": "Python 3"
    },
    "language_info": {
      "name": "python"
    }
  },
  "cells": [
    {
      "cell_type": "markdown",
      "metadata": {
        "id": "view-in-github",
        "colab_type": "text"
      },
      "source": [
        "<a href=\"https://colab.research.google.com/github/Amelia-D0221111/Tugas-ASD/blob/main/AmeliaInformatika_H.ipynb\" target=\"_parent\"><img src=\"https://colab.research.google.com/assets/colab-badge.svg\" alt=\"Open In Colab\"/></a>"
      ]
    },
    {
      "cell_type": "markdown",
      "source": [
        "# **List**\n",
        "1. gunakan list untuk menampung barang yang diinput\n",
        "2. program dapat menambahkan barang\n",
        "3. program dapat menghapus barang \n",
        "4. program dapat mengedit barang\n",
        "5. program dapat menampilkan semua barang\n",
        "6. program dapat mengetahui apakah barang sudah ada dalam list atau belum\n",
        "7. program dapat menampilkan index"
      ],
      "metadata": {
        "id": "qJdqq_2zDSYD"
      }
    },
    {
      "cell_type": "code",
      "execution_count": null,
      "metadata": {
        "colab": {
          "base_uri": "https://localhost:8080/"
        },
        "id": "95tG2xIZDOfR",
        "outputId": "640c84e2-d176-4746-d482-11543e8376ee"
      },
      "outputs": [
        {
          "output_type": "stream",
          "name": "stdout",
          "text": [
            "1. tambahkan barang\n",
            "  2. hapus barang\n",
            "  3. edit barang\n",
            "  4. tampilkan barang\n",
            "  5. cari barang\n",
            "  6. cari index\n",
            "  7. hentikan\n",
            "masukkan perintah :1\n",
            "nama barang :laptop\n",
            "1. tambahkan barang\n",
            "  2. hapus barang\n",
            "  3. edit barang\n",
            "  4. tampilkan barang\n",
            "  5. cari barang\n",
            "  6. cari index\n",
            "  7. hentikan\n",
            "masukkan perintah :1\n",
            "nama barang :hp\n",
            "1. tambahkan barang\n",
            "  2. hapus barang\n",
            "  3. edit barang\n",
            "  4. tampilkan barang\n",
            "  5. cari barang\n",
            "  6. cari index\n",
            "  7. hentikan\n",
            "masukkan perintah :1\n",
            "nama barang :tv\n",
            "1. tambahkan barang\n",
            "  2. hapus barang\n",
            "  3. edit barang\n",
            "  4. tampilkan barang\n",
            "  5. cari barang\n",
            "  6. cari index\n",
            "  7. hentikan\n",
            "masukkan perintah :1\n",
            "nama barang :komputer\n",
            "1. tambahkan barang\n",
            "  2. hapus barang\n",
            "  3. edit barang\n",
            "  4. tampilkan barang\n",
            "  5. cari barang\n",
            "  6. cari index\n",
            "  7. hentikan\n",
            "masukkan perintah :6\n",
            "nama barang :komputer\n",
            "3\n",
            "1. tambahkan barang\n",
            "  2. hapus barang\n",
            "  3. edit barang\n",
            "  4. tampilkan barang\n",
            "  5. cari barang\n",
            "  6. cari index\n",
            "  7. hentikan\n",
            "masukkan perintah :7\n",
            "['laptop', 'hp', 'tv', 'komputer']\n"
          ]
        }
      ],
      "source": [
        "barang = []\n",
        "\n",
        "perintah = 0\n",
        "\n",
        "while perintah != 7 :\n",
        "  print('''1. tambahkan barang\n",
        "  2. hapus barang\n",
        "  3. edit barang\n",
        "  4. tampilkan barang\n",
        "  5. cari barang\n",
        "  6. cari index\n",
        "  7. hentikan''')\n",
        "  perintah = int(input(\"masukkan perintah :\"))\n",
        "\n",
        "  if perintah == 1 :\n",
        "    barang1 = input(\"nama barang :\")\n",
        "    barang.append(barang1)\n",
        "\n",
        "  elif perintah == 2 :\n",
        "    index = int(input(\"masukkan index yang akan di hapus :\"))\n",
        "    barang.pop(index)\n",
        "\n",
        "  elif perintah == 3 :\n",
        "    index = int(input(\"masukkan index yang akan kita ganti :\"))\n",
        "    barang [index] = input(\"masukkan barang baru :\")\n",
        "\n",
        "  elif perintah == 4 :\n",
        "    for i in barang :\n",
        "      print(i)\n",
        "\n",
        "  elif perintah == 5 :\n",
        "    cari = input(\"masukkan nama barang yang dicari :\")\n",
        "    if cari in barang :\n",
        "      print(\"barang ditemukan\")\n",
        "    else:\n",
        "      print(\"barang tidak ditemukan\")\n",
        "\n",
        "  elif perintah == 6 :\n",
        "    cari =input(\"nama barang :\")\n",
        "    if cari in barang :\n",
        "      print(barang.index(cari))\n",
        "    else :\n",
        "      print(\"barang tidak ditemukan\")\n",
        "\n",
        "print(barang)"
      ]
    }
  ]
}